{
  "nbformat": 4,
  "nbformat_minor": 0,
  "metadata": {
    "colab": {
      "provenance": [],
      "authorship_tag": "ABX9TyN3v22w7P3kARCvmFAC0mZM",
      "include_colab_link": true
    },
    "kernelspec": {
      "name": "python3",
      "display_name": "Python 3"
    },
    "language_info": {
      "name": "python"
    }
  },
  "cells": [
    {
      "cell_type": "markdown",
      "metadata": {
        "id": "view-in-github",
        "colab_type": "text"
      },
      "source": [
        "<a href=\"https://colab.research.google.com/github/EoFiths/python-ls8/blob/main/inicia_o_ao_python.ipynb\" target=\"_parent\"><img src=\"https://colab.research.google.com/assets/colab-badge.svg\" alt=\"Open In Colab\"/></a>"
      ]
    },
    {
      "cell_type": "markdown",
      "source": [
        "## Aula 1"
      ],
      "metadata": {
        "id": "y4tZi7qeN6XT"
      }
    },
    {
      "cell_type": "code",
      "source": [
        "print(\"I Competição de Progamação da Start\")"
      ],
      "metadata": {
        "colab": {
          "base_uri": "https://localhost:8080/"
        },
        "id": "itk9GC8AMkyp",
        "outputId": "e9835cb3-8f46-473a-b7b5-ed2e3f29f2f4"
      },
      "execution_count": null,
      "outputs": [
        {
          "output_type": "stream",
          "name": "stdout",
          "text": [
            "I Competição de Progamação da Start\n"
          ]
        }
      ]
    },
    {
      "cell_type": "code",
      "source": [
        "ano = \"II\"\n",
        "\n",
        "print(ano, \"Competição de programação da Start\")"
      ],
      "metadata": {
        "colab": {
          "base_uri": "https://localhost:8080/"
        },
        "id": "vdPsjhC1Prt7",
        "outputId": "3b4d7977-aa05-460b-f73f-4db59aefa6f2"
      },
      "execution_count": null,
      "outputs": [
        {
          "output_type": "stream",
          "name": "stdout",
          "text": [
            "II Competição de programação da Start\n"
          ]
        }
      ]
    },
    {
      "cell_type": "code",
      "source": [
        "print(f\"{ano} Competição de Programação da Start\")"
      ],
      "metadata": {
        "colab": {
          "base_uri": "https://localhost:8080/"
        },
        "id": "L5duDpupQYkb",
        "outputId": "89f3bfbf-ae56-471b-a4eb-4942c10eff00"
      },
      "execution_count": null,
      "outputs": [
        {
          "output_type": "stream",
          "name": "stdout",
          "text": [
            "II Competição de Programação da Start\n"
          ]
        }
      ]
    },
    {
      "cell_type": "markdown",
      "source": [
        "## Aula 2"
      ],
      "metadata": {
        "id": "PDHatIjuOCHj"
      }
    },
    {
      "cell_type": "markdown",
      "source": [
        "Uma escola está promovendo uma campanha de incentivo à leitura em que cada estudante recebe pontos ao concluir livros. Esses pontos podem ser trocados por diferentes prêmios da escola, e as categorias de livros têm valores de pontos diferentes. Livros de ficção valem 8 pontos, livros de não ficção valem 8 pontos, e livros infantis valem 6 pontos. O problema é que Rodrigo leu um livro de cada categoria e agora quer saber quantos pontos acumulou com sua leitura."
      ],
      "metadata": {
        "id": "1iTaOFpfOZVQ"
      }
    },
    {
      "cell_type": "code",
      "source": [
        "livro_ficcao = 8\n",
        "livro_n_ficcao = 8\n",
        "livro_infantil = 6\n",
        "\n",
        "pontos_rodrigo = livro_ficcao + livro_n_ficcao + livro_infantil\n",
        "\n",
        "print(f\"Os pontos totais do Rodrigo sao: {pontos_rodrigo}\")"
      ],
      "metadata": {
        "id": "N_7t2kroOjZI",
        "outputId": "5e4ee4e2-abf0-4d93-e540-77f80f0efce6",
        "colab": {
          "base_uri": "https://localhost:8080/"
        }
      },
      "execution_count": 6,
      "outputs": [
        {
          "output_type": "stream",
          "name": "stdout",
          "text": [
            "Os pontos totais do Rodrigo sao: 22\n"
          ]
        }
      ]
    }
  ]
}